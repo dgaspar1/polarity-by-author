# Import Dependencies
import selenium
from selenium import webdriver
from selenium.webdriver.common.by import By
from selenium.webdriver.common.keys import Keys
from time import sleep

driver = webdriver.Chrome()
driver.maximize_window()
driver.get("https://twitter.com/login")

subject = "LulaOficial"
personTag = "@LulaOficial"

# Setup the log in
sleep(3)
username = driver.find_element(By.XPATH,"//input[@name='text']")
username.send_keys("denysp.gaspar@gmail.com")
next_button = driver.find_element(By.XPATH,"//span[contains(text(),'Avançar')]")
next_button.click()

sleep(3)
username = driver.find_element(By.XPATH,"//input[@name='text']")
username.send_keys("48988391802")
next_button = driver.find_element(By.XPATH,"//span[contains(text(),'Avançar')]")
next_button.click()

sleep(3)
password = driver.find_element(By.XPATH,"//input[@name='password']")
password.send_keys('1@Paraguay')
log_in = driver.find_element(By.XPATH,"//span[contains(text(),'Entrar')]")
log_in.click()

# Search item and fetch it
sleep(3)
search_box = driver.find_element(By.XPATH,"//input[@data-testid='SearchBox_Search_Input']")
search_box.send_keys(subject)
search_box.send_keys(Keys.ENTER)

sleep(3)
people = driver.find_element(By.XPATH,"//span[contains(text(),'People')]")
people.click()

sleep(3)
profile = driver.find_element(By.XPATH,"//*[@id='react-root']/div/div/div[2]/main/div/div/div/div/div/div[3]/section/div/div/div[1]/div/div/div/div[2]/div[2]/div[1]/div[1]/div/div[1]/a/div/div[1]/span/span[1]")
profile.click()

sleep(3)
UserTag = driver.find_element(By.XPATH,"//div[@data-testid='User-Name']").text
TimeStamp = driver.find_element(By.XPATH,"//time").get_attribute('datetime')
Tweet = driver.find_element(By.XPATH,"//div[@data-testid='tweetText']").text
Reply = driver.find_element(By.XPATH,"//div[@data-testid='reply']").text
reTweet = driver.find_element(By.XPATH,"//div[@data-testid='retweet']").text
Like = driver.find_element(By.XPATH,"//div[@data-testid='like']").text


UserTags=[]
TimeStamps=[]
Tweets=[]
Replys=[]
reTweets=[]
Likes=[]

articles = driver.find_elements(By.XPATH,"//article[@data-testid='tweet']")
while True:
    for article in articles:
        UserTag = driver.find_element(By.XPATH,".//div[@data-testid='User-Name']").text
        isRequired = UserTag.find(personTag)
        
        if isRequired > 0:
            #Pegando a tag do usuário
            spplitedUserTag = UserTag.split()
            atUserTag = spplitedUserTag[1]
            UserTags.append(atUserTag)
                        
            TimeStamp = driver.find_element(By.XPATH,".//time").get_attribute('datetime')
            TimeStamps.append(TimeStamp)
            #Texto do tweet

            Tweet = driver.find_element(By.XPATH,".//div[@data-testid='tweetText']").text
            Tweets.append(Tweet)

    driver.execute_script('window.scrollTo(0,document.body.scrollHeight);')
    sleep(3)
    articles = driver.find_elements(By.XPATH,"//article[@data-testid='tweet']")
    Tweets2 = list(set(Tweets))

    if len(Tweets2) > 5:
        break

import pandas as pd
df = pd.DataFrame(zip(UserTags,TimeStamps,Tweets)
                  ,columns=['UserTags','TimeStamps','Tweets'])

df.head()
df = df.drop_duplicates(subset='Tweets')
df.to_excel(r"D:\\tweets\\tweets_lule.xlsx",index=False)

import os
os.system('start "excel" "D:\\tweets\\tweets_lule.xlsx"')