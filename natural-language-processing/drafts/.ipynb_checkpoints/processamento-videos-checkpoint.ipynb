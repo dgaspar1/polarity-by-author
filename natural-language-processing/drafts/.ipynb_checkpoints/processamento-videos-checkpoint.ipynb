{
 "cells": [
  {
   "cell_type": "code",
   "execution_count": 42,
   "id": "c5973609",
   "metadata": {},
   "outputs": [
    {
     "name": "stdout",
     "output_type": "stream",
     "text": [
      "Requirement already satisfied: moviepy in c:\\users\\denys\\anaconda3\\lib\\site-packages (1.0.3)Note: you may need to restart the kernel to use updated packages.\n",
      "\n",
      "Requirement already satisfied: SpeechRecognition in c:\\users\\denys\\anaconda3\\lib\\site-packages (3.10.0)\n",
      "Requirement already satisfied: SQLAlchemy in c:\\users\\denys\\anaconda3\\lib\\site-packages (1.4.39)\n",
      "Collecting pysoundfile\n",
      "  Using cached PySoundFile-0.9.0.post1-py2.py3.cp26.cp27.cp32.cp33.cp34.cp35.cp36.pp27.pp32.pp33-none-win_amd64.whl (671 kB)\n",
      "Requirement already satisfied: imageio<3.0,>=2.5 in c:\\users\\denys\\anaconda3\\lib\\site-packages (from moviepy) (2.19.3)\n",
      "Requirement already satisfied: requests<3.0,>=2.8.1 in c:\\users\\denys\\anaconda3\\lib\\site-packages (from moviepy) (2.28.1)\n",
      "Requirement already satisfied: numpy in c:\\users\\denys\\anaconda3\\lib\\site-packages (from moviepy) (1.21.5)\n",
      "Requirement already satisfied: imageio-ffmpeg>=0.2.0 in c:\\users\\denys\\anaconda3\\lib\\site-packages (from moviepy) (0.4.8)\n",
      "Requirement already satisfied: decorator<5.0,>=4.0.2 in c:\\users\\denys\\anaconda3\\lib\\site-packages (from moviepy) (4.4.2)\n",
      "Requirement already satisfied: tqdm<5.0,>=4.11.2 in c:\\users\\denys\\anaconda3\\lib\\site-packages (from moviepy) (4.64.1)\n",
      "Requirement already satisfied: proglog<=1.0.0 in c:\\users\\denys\\anaconda3\\lib\\site-packages (from moviepy) (0.1.10)\n",
      "Requirement already satisfied: greenlet!=0.4.17 in c:\\users\\denys\\anaconda3\\lib\\site-packages (from SQLAlchemy) (1.1.1)\n",
      "Requirement already satisfied: cffi>=0.6 in c:\\users\\denys\\anaconda3\\lib\\site-packages (from pysoundfile) (1.15.1)\n",
      "Requirement already satisfied: pycparser in c:\\users\\denys\\anaconda3\\lib\\site-packages (from cffi>=0.6->pysoundfile) (2.21)\n",
      "Requirement already satisfied: pillow>=8.3.2 in c:\\users\\denys\\anaconda3\\lib\\site-packages (from imageio<3.0,>=2.5->moviepy) (9.2.0)\n",
      "Requirement already satisfied: certifi>=2017.4.17 in c:\\users\\denys\\anaconda3\\lib\\site-packages (from requests<3.0,>=2.8.1->moviepy) (2022.9.14)\n",
      "Requirement already satisfied: idna<4,>=2.5 in c:\\users\\denys\\anaconda3\\lib\\site-packages (from requests<3.0,>=2.8.1->moviepy) (3.3)\n",
      "Requirement already satisfied: charset-normalizer<3,>=2 in c:\\users\\denys\\anaconda3\\lib\\site-packages (from requests<3.0,>=2.8.1->moviepy) (2.0.4)\n",
      "Requirement already satisfied: urllib3<1.27,>=1.21.1 in c:\\users\\denys\\anaconda3\\lib\\site-packages (from requests<3.0,>=2.8.1->moviepy) (1.26.11)\n",
      "Requirement already satisfied: colorama in c:\\users\\denys\\anaconda3\\lib\\site-packages (from tqdm<5.0,>=4.11.2->moviepy) (0.4.5)\n",
      "Installing collected packages: pysoundfile\n",
      "Successfully installed pysoundfile-0.9.0.post1\n"
     ]
    }
   ],
   "source": [
    "pip install moviepy SpeechRecognition SQLAlchemy pysoundfile"
   ]
  },
  {
   "cell_type": "code",
   "execution_count": 43,
   "id": "1768e58a",
   "metadata": {},
   "outputs": [],
   "source": [
    "import moviepy.editor as mp\n",
    "import speech_recognition as sr\n",
    "import wave\n",
    "import os\n",
    "import speech_recognition as sr\n",
    "import soundfile as sf\n"
   ]
  },
  {
   "cell_type": "code",
   "execution_count": 7,
   "id": "9e393aff",
   "metadata": {},
   "outputs": [
    {
     "name": "stdout",
     "output_type": "stream",
     "text": [
      "MoviePy - Writing audio in Quais foram os maiores heróis do Brasil.wav\n"
     ]
    },
    {
     "name": "stderr",
     "output_type": "stream",
     "text": [
      "                                                                                                                       "
     ]
    },
    {
     "name": "stdout",
     "output_type": "stream",
     "text": [
      "MoviePy - Done.\n"
     ]
    },
    {
     "name": "stderr",
     "output_type": "stream",
     "text": [
      "\r"
     ]
    }
   ],
   "source": [
    "video_path = 'C:/Users/Denys/Downloads/Quais foram os maiores heróis do Brasil.mp4'  # Substitua pelo caminho do seu vídeo\n",
    "\n",
    "video = mp.VideoFileClip(video_path)\n",
    "audio = video.audio\n",
    "audio_path = 'Quais foram os maiores heróis do Brasil.wav'  # Caminho para salvar o áudio temporariamente\n",
    "audio.write_audiofile(audio_path)"
   ]
  },
  {
   "cell_type": "code",
   "execution_count": 18,
   "id": "813718ae",
   "metadata": {},
   "outputs": [
    {
     "name": "stdout",
     "output_type": "stream",
     "text": [
      "Arquivo dividido com sucesso!\n"
     ]
    }
   ],
   "source": [
    "def split_wav(file_path, chunk_size):\n",
    "    # Cria uma pasta para armazenar os arquivos divididos\n",
    "    output_folder = 'arquivos_divididos'\n",
    "    os.makedirs(output_folder, exist_ok=True)\n",
    "\n",
    "    # Abre o arquivo de áudio para leitura em modo binário\n",
    "    with open(file_path, 'rb') as file:\n",
    "        file_number = 1\n",
    "        current_chunk_size = 0\n",
    "        current_chunk_data = b''\n",
    "\n",
    "        # Lê o arquivo em chunks até atingir o tamanho máximo\n",
    "        while True:\n",
    "            chunk = file.read(chunk_size)\n",
    "            \n",
    "            # Verifica se chegou ao final do arquivo\n",
    "            if not chunk:\n",
    "                break\n",
    "\n",
    "            # Verifica se o chunk atual excede o tamanho máximo\n",
    "            if current_chunk_size + len(chunk) > chunk_size:\n",
    "                # Salva o chunk atual em um novo arquivo\n",
    "                output_file_path = os.path.join(output_folder, f'chunk{file_number}.wav')\n",
    "                with open(output_file_path, 'wb') as output_file:\n",
    "                    output_file.write(current_chunk_data)\n",
    "\n",
    "                # Incrementa o número do arquivo\n",
    "                file_number += 1\n",
    "                current_chunk_size = 0\n",
    "                current_chunk_data = b''\n",
    "\n",
    "            # Atualiza o chunk atual e o tamanho atual\n",
    "            current_chunk_data += chunk\n",
    "            current_chunk_size += len(chunk)\n",
    "\n",
    "        # Salva o último chunk em um novo arquivo\n",
    "        output_file_path = os.path.join(output_folder, f'chunk{file_number}.wav')\n",
    "        with open(output_file_path, 'wb') as output_file:\n",
    "            output_file.write(current_chunk_data)\n",
    "\n",
    "    print('Arquivo dividido com sucesso!')\n",
    "\n",
    "# Exemplo de uso\n",
    "wav_file_path = audio_path\n",
    "chunk_size_bytes = 10 * 1024 * 1024  # 10MB em bytes\n",
    "\n",
    "split_wav(wav_file_path, chunk_size_bytes)"
   ]
  },
  {
   "cell_type": "code",
   "execution_count": 64,
   "id": "60fec04f",
   "metadata": {},
   "outputs": [
    {
     "ename": "AssertionError",
     "evalue": "Given audio file must be a filename string or a file-like object",
     "output_type": "error",
     "traceback": [
      "\u001b[1;31m---------------------------------------------------------------------------\u001b[0m",
      "\u001b[1;31mAssertionError\u001b[0m                            Traceback (most recent call last)",
      "\u001b[1;32m~\\AppData\\Local\\Temp\\ipykernel_12152\\446762343.py\u001b[0m in \u001b[0;36m<module>\u001b[1;34m\u001b[0m\n\u001b[0;32m     11\u001b[0m \u001b[1;33m\u001b[0m\u001b[0m\n\u001b[0;32m     12\u001b[0m \u001b[1;31m# Transcrição do áudio\u001b[0m\u001b[1;33m\u001b[0m\u001b[1;33m\u001b[0m\u001b[0m\n\u001b[1;32m---> 13\u001b[1;33m \u001b[1;32mwith\u001b[0m \u001b[0msr\u001b[0m\u001b[1;33m.\u001b[0m\u001b[0mAudioFile\u001b[0m\u001b[1;33m(\u001b[0m\u001b[0maudio_data\u001b[0m\u001b[1;33m)\u001b[0m \u001b[1;32mas\u001b[0m \u001b[0msource\u001b[0m\u001b[1;33m:\u001b[0m\u001b[1;33m\u001b[0m\u001b[1;33m\u001b[0m\u001b[0m\n\u001b[0m\u001b[0;32m     14\u001b[0m    \u001b[0maudio\u001b[0m \u001b[1;33m=\u001b[0m \u001b[0mr\u001b[0m\u001b[1;33m.\u001b[0m\u001b[0mrecord\u001b[0m\u001b[1;33m(\u001b[0m\u001b[0maudio_data\u001b[0m\u001b[1;33m)\u001b[0m\u001b[1;33m\u001b[0m\u001b[1;33m\u001b[0m\u001b[0m\n\u001b[0;32m     15\u001b[0m \u001b[1;33m\u001b[0m\u001b[0m\n",
      "\u001b[1;32m~\\anaconda3\\lib\\site-packages\\speech_recognition\\__init__.py\u001b[0m in \u001b[0;36m__init__\u001b[1;34m(self, filename_or_fileobject)\u001b[0m\n\u001b[0;32m    224\u001b[0m \u001b[1;33m\u001b[0m\u001b[0m\n\u001b[0;32m    225\u001b[0m     \u001b[1;32mdef\u001b[0m \u001b[0m__init__\u001b[0m\u001b[1;33m(\u001b[0m\u001b[0mself\u001b[0m\u001b[1;33m,\u001b[0m \u001b[0mfilename_or_fileobject\u001b[0m\u001b[1;33m)\u001b[0m\u001b[1;33m:\u001b[0m\u001b[1;33m\u001b[0m\u001b[1;33m\u001b[0m\u001b[0m\n\u001b[1;32m--> 226\u001b[1;33m         \u001b[1;32massert\u001b[0m \u001b[0misinstance\u001b[0m\u001b[1;33m(\u001b[0m\u001b[0mfilename_or_fileobject\u001b[0m\u001b[1;33m,\u001b[0m \u001b[1;33m(\u001b[0m\u001b[0mtype\u001b[0m\u001b[1;33m(\u001b[0m\u001b[1;34m\"\"\u001b[0m\u001b[1;33m)\u001b[0m\u001b[1;33m,\u001b[0m \u001b[0mtype\u001b[0m\u001b[1;33m(\u001b[0m\u001b[1;34mu\"\"\u001b[0m\u001b[1;33m)\u001b[0m\u001b[1;33m)\u001b[0m\u001b[1;33m)\u001b[0m \u001b[1;32mor\u001b[0m \u001b[0mhasattr\u001b[0m\u001b[1;33m(\u001b[0m\u001b[0mfilename_or_fileobject\u001b[0m\u001b[1;33m,\u001b[0m \u001b[1;34m\"read\"\u001b[0m\u001b[1;33m)\u001b[0m\u001b[1;33m,\u001b[0m \u001b[1;34m\"Given audio file must be a filename string or a file-like object\"\u001b[0m\u001b[1;33m\u001b[0m\u001b[1;33m\u001b[0m\u001b[0m\n\u001b[0m\u001b[0;32m    227\u001b[0m         \u001b[0mself\u001b[0m\u001b[1;33m.\u001b[0m\u001b[0mfilename_or_fileobject\u001b[0m \u001b[1;33m=\u001b[0m \u001b[0mfilename_or_fileobject\u001b[0m\u001b[1;33m\u001b[0m\u001b[1;33m\u001b[0m\u001b[0m\n\u001b[0;32m    228\u001b[0m         \u001b[0mself\u001b[0m\u001b[1;33m.\u001b[0m\u001b[0mstream\u001b[0m \u001b[1;33m=\u001b[0m \u001b[1;32mNone\u001b[0m\u001b[1;33m\u001b[0m\u001b[1;33m\u001b[0m\u001b[0m\n",
      "\u001b[1;31mAssertionError\u001b[0m: Given audio file must be a filename string or a file-like object"
     ]
    }
   ],
   "source": [
    "# Caminho para o arquivo WAV\n",
    "audio_path = 'C:/Users/Denys/Documents/TCC/python/teste.wav'\n",
    "\n",
    "data, sample_rate = sf.read(audio_path)\n",
    "\n",
    "# Converter os dados de áudio para o formato adequado\n",
    "audio_data = data.tobytes()\n",
    "\n",
    "# Inicializar o reconhecedor de fala\n",
    "r = sr.Recognizer()\n",
    "\n",
    "# Transcrição do áudio\n",
    "with sr.AudioFile(audio_data) as source:\n",
    "   audio = r.record(audio_data)\n",
    "\n",
    "    # Realizar o reconhecimento de fala\n",
    "  #  text = r.recognize_google(audio, language='pt-BR')  # Substitua pelo idioma do seu áudio\n",
    "\n",
    "    # Imprimir o texto transcrito\n",
    "   # print(text)"
   ]
  },
  {
   "cell_type": "code",
   "execution_count": null,
   "id": "7140caba",
   "metadata": {},
   "outputs": [],
   "source": []
  }
 ],
 "metadata": {
  "kernelspec": {
   "display_name": "Python 3 (ipykernel)",
   "language": "python",
   "name": "python3"
  },
  "language_info": {
   "codemirror_mode": {
    "name": "ipython",
    "version": 3
   },
   "file_extension": ".py",
   "mimetype": "text/x-python",
   "name": "python",
   "nbconvert_exporter": "python",
   "pygments_lexer": "ipython3",
   "version": "3.9.13"
  }
 },
 "nbformat": 4,
 "nbformat_minor": 5
}
