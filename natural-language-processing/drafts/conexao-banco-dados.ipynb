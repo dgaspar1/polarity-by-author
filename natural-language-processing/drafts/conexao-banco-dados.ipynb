{
 "cells": [
  {
   "cell_type": "markdown",
   "id": "91878f31",
   "metadata": {},
   "source": [
    "# Testes de conexão com o Postgres"
   ]
  },
  {
   "cell_type": "markdown",
   "id": "60169be1",
   "metadata": {},
   "source": [
    "## Imports"
   ]
  },
  {
   "cell_type": "code",
   "execution_count": null,
   "id": "2a5f8e3b",
   "metadata": {},
   "outputs": [],
   "source": [
    "from sqlalchemy import create_engine"
   ]
  },
  {
   "cell_type": "code",
   "execution_count": null,
   "id": "7da3c862",
   "metadata": {},
   "outputs": [],
   "source": [
    "host = \"localhost\"\n",
    "port = \"5432\"\n",
    "database = \"postgres\"\n",
    "user = \"sauron\"\n",
    "password = \"123321123\"\n",
    "\n",
    "# Criar engine de conexão\n",
    "engine = create_engine(f\"postgresql://{user}:{password}@{host}:{port}/{database}\")\n",
    "\n",
    "# Conectar ao banco de dados\n",
    "conn = engine.connect()\n",
    "\n",
    "# Realizar operações no banco de dados\n",
    "# ...\n",
    "\n",
    "\n",
    "# Fechar a conexão\n",
    "conn.close()"
   ]
  }
 ],
 "metadata": {
  "kernelspec": {
   "display_name": "Python 3 (ipykernel)",
   "language": "python",
   "name": "python3"
  },
  "language_info": {
   "codemirror_mode": {
    "name": "ipython",
    "version": 3
   },
   "file_extension": ".py",
   "mimetype": "text/x-python",
   "name": "python",
   "nbconvert_exporter": "python",
   "pygments_lexer": "ipython3",
   "version": "3.9.13"
  }
 },
 "nbformat": 4,
 "nbformat_minor": 5
}
