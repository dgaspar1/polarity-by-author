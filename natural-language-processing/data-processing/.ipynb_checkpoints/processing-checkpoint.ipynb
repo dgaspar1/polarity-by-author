{
 "cells": [
  {
   "cell_type": "code",
   "execution_count": 6,
   "id": "6a4c2828",
   "metadata": {},
   "outputs": [
    {
     "name": "stdout",
     "output_type": "stream",
     "text": [
      "O arquivo \"dados.xlsx\" não foi encontrado.\n"
     ]
    }
   ],
   "source": [
    "\n",
    "\n",
    "# Nome do arquivo XLSX\n",
    "\n",
    "# Tentando abrir o arquivo XLSX\n",
    "\n",
    "import os\n",
    "import pandas as pd\n",
    "\n",
    "diretorio_atual = os.getcwd()\n",
    "\n",
    "pasta_pai = os.path.join(diretorio_atual, '..\\data')\n",
    "d\n",
    "try:\n",
    "    # Lendo o arquivo XLSX e armazenando-o em um DataFrame\n",
    "    df = pd.read_excel(nome_arquivo)\n",
    "    \n",
    "    # Exibindo o conteúdo do DataFrame (linhas)\n",
    "    print(df)\n",
    "\n",
    "except FileNotFoundError:\n",
    "    print(f'O arquivo \"{nome_arquivo}\" não foi encontrado.')"
   ]
  },
  {
   "cell_type": "code",
   "execution_count": null,
   "id": "4ff6c88d",
   "metadata": {},
   "outputs": [],
   "source": []
  }
 ],
 "metadata": {
  "kernelspec": {
   "display_name": "Python 3 (ipykernel)",
   "language": "python",
   "name": "python3"
  },
  "language_info": {
   "codemirror_mode": {
    "name": "ipython",
    "version": 3
   },
   "file_extension": ".py",
   "mimetype": "text/x-python",
   "name": "python",
   "nbconvert_exporter": "python",
   "pygments_lexer": "ipython3",
   "version": "3.9.13"
  }
 },
 "nbformat": 4,
 "nbformat_minor": 5
}
